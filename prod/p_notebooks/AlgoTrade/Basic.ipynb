{
 "cells": [
  {
   "cell_type": "code",
   "execution_count": 1,
   "metadata": {},
   "outputs": [],
   "source": [
    "import pymysql, talib, sys, os, tempfile\n",
    "import pandas as pd , numpy as np\n",
    "#############################################\n",
    "class HKStock:\n",
    "    conn = None\n",
    "    symbol=None\n",
    "    daily=None\n",
    "    tmpfilename=None\n",
    "    ####################\n",
    "    def __init__(self,symbol):\n",
    "        self.symbol = symbol\n",
    "        self.populate()\n",
    "        self.saveCSV()\n",
    "    ####################\n",
    "    def populate(self):\n",
    "        if self.conn is None:\n",
    "            self.conn = pymysql.connect(host='tptcn.ddns.net', port=53306, db='p_master',\n",
    "                                   user=os.environ['MYSQL_READUSER'], password=os.environ['MYSQL_READPASSWORD'],\n",
    "                                   cursorclass=pymysql.cursors.DictCursor)\n",
    "        tmpl = \"SELECT  * FROM `consolidated_daily` WHERE `symbol`='%s' \"\n",
    "        sql = tmpl % (self.symbol)\n",
    "        self.daily= pd.read_sql(sql, self.conn, index_col=['Date'] )\n",
    "        ### temp\n",
    "        sOpen  = self.daily['Open']\n",
    "        sHigh  = self.daily['High']\n",
    "        sLow   = self.daily['Low']\n",
    "        sClose = self.daily['Close']\n",
    "        sVolume= self.daily['Volume']\n",
    "    ####################\n",
    "    def saveCSV(self):\n",
    "        self.tmpfilename = '/tmp/%s' %(self.symbol)\n",
    "        self.daily.to_csv(self.tmpfilename, columns=['Open', 'High', 'Low', 'Close', 'Volume'], index_label='Date Time')\n",
    "\n",
    "    ####################\n",
    "    def __del__(self):\n",
    "        if self.conn is not None:\n",
    "            self.conn.close()\n",
    "            self.conn = None\n",
    "#############################################\n",
    "st = HKStock('0388.HK')\n"
   ]
  },
  {
   "cell_type": "code",
   "execution_count": 2,
   "metadata": {},
   "outputs": [
    {
     "name": "stdout",
     "output_type": "stream",
     "text": [
      "<pyalgotrade.barfeed.csvfeed.GenericBarFeed object at 0x7f604b6d4490>\n"
     ]
    }
   ],
   "source": [
    "from pyalgotrade.barfeed.csvfeed import GenericBarFeed\n",
    "from pyalgotrade.bar import Frequency\n",
    "\n",
    "feed = GenericBarFeed(Frequency.DAY,maxLen=10000)\n",
    "feed.setDateTimeFormat('%Y-%m-%d')\n",
    "feed.addBarsFromCSV(st.symbol, st.tmpfilename)\n",
    "print feed"
   ]
  }
 ],
 "metadata": {
  "kernelspec": {
   "display_name": "Python 2",
   "language": "python",
   "name": "python2"
  },
  "language_info": {
   "codemirror_mode": {
    "name": "ipython",
    "version": 2
   },
   "file_extension": ".py",
   "mimetype": "text/x-python",
   "name": "python",
   "nbconvert_exporter": "python",
   "pygments_lexer": "ipython2",
   "version": "2.7.15"
  }
 },
 "nbformat": 4,
 "nbformat_minor": 2
}
