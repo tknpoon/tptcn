{
 "cells": [
  {
   "cell_type": "code",
   "execution_count": 1,
   "metadata": {},
   "outputs": [],
   "source": [
    "import datetime as dt\n",
    "import pymysql, talib, sys, os, tempfile\n",
    "import pandas as pd , numpy as np\n",
    "\n",
    "#############################################\n",
    "class HKta:\n",
    "    conn = None\n",
    "    symbol=None\n",
    "    \n",
    "    raw=None\n",
    "    daily=None\n",
    "    weekly=None\n",
    "    monthly=None\n",
    "    yearly=None\n",
    "    ####################\n",
    "    def __init__(self,symbol):\n",
    "        self.symbol = symbol\n",
    "        self.populate()\n",
    "    ####################\n",
    "    def populate(self):\n",
    "        if self.conn is None:\n",
    "            self.conn = pymysql.connect(host='tptcn.ddns.net', port=53306, db='p_master',\n",
    "                                   user=os.environ['MYSQL_READUSER'], password=os.environ['MYSQL_READPASSWORD'],\n",
    "                                   cursorclass=pymysql.cursors.DictCursor)\n",
    "\n",
    "        tmpl = \"SELECT  * FROM `consolidated_daily` WHERE `symbol`='%s' \"\n",
    "        sql = tmpl % (self.symbol)\n",
    "        self.raw= pd.read_sql(sql, self.conn, index_col=['Date'] )[['Open', 'High', 'Low', 'Close', 'Volume']]\n",
    "        ### drop NA \n",
    "        self.daily = self.raw.fillna(0)\n",
    "        self.daily['Volume'] = self.daily['Volume'].astype('int')\n",
    "        self.daily = self.daily[self.daily['Volume'] > 0]\n",
    "        self.daily = self.daily.reset_index()\n",
    "        self.daily['Date'] = pd.to_datetime(self.daily['Date'])\n",
    "        self.daily=self.daily.set_index('Date')\n",
    "\n",
    "        #Close should be official; so adjust High/Low if necessary\n",
    "        self.daily['High'] = np.where(self.daily['Close'] > self.daily['High'], self.daily['Close'], self.daily['High'])\n",
    "        self.daily['Low']  = np.where(self.daily['Close'] < self.daily['Low'],  self.daily['Close'], self.daily['Low'])\n",
    "        #Open is calculated; so, adjust according to the High/Low if necessary\n",
    "        self.daily['Open'] = np.where(self.daily['Open']  > self.daily['High'], self.daily['High'],  self.daily['Open'])\n",
    "        self.daily['Open'] = np.where(self.daily['Open']  < self.daily['Low'],  self.daily['Low'],   self.daily['Open'])\n",
    "         \n",
    "        ### roll up \n",
    "        tmpdf = self.daily\n",
    "        tmpdf = tmpdf.reset_index()\n",
    "\n",
    "        tmpdf['yyyymm'] = tmpdf['Date'].dt.strftime(\"%Y%m\")\n",
    "        tmpdf['Month_Number'] = tmpdf['Date'].dt.month\n",
    "        tmpdf['Year'] = tmpdf['Date'].dt.year\n",
    "\n",
    "        # 'daysoffset' will container the weekday, as integers\n",
    "        tmpdf['daysoffset'] = tmpdf['Date'].apply(lambda x: x.weekday())\n",
    "        # We apply, row by row (axis=1) a timedelta operation\n",
    "        tmpdf['WeekStart'] = tmpdf.apply(lambda x: x['Date'] - dt.timedelta(days=x['daysoffset']), axis=1)\n",
    "\n",
    "        ### weekly\n",
    "        self.weekly = tmpdf.groupby(['WeekStart']).agg({'Open':'first', 'High':'max', 'Low':'min', 'Close':'last', 'Volume':'sum'})\n",
    "        self.weekly['Count'] =tmpdf.groupby(['WeekStart']).size()\n",
    "        self.weekly['Volume'] = self.weekly['Volume'].astype('int')\n",
    "        self.weekly['AvgDVol'] = (self.weekly['Volume'] / self.weekly['Count']).astype('int')\n",
    "        self.weekly = self.weekly.reset_index().set_index('WeekStart')[['Open', 'High', 'Low', 'Close', 'Volume', 'AvgDVol', 'Count']]\n",
    "\n",
    "        ### monthly\n",
    "        self.monthly = tmpdf.groupby(['Year','Month_Number']).agg({'Open':'first', 'High':'max', 'Low':'min', 'Close':'last', 'Volume':'sum', 'yyyymm':'first'})\n",
    "        self.monthly['Count'] =tmpdf.groupby(['Year','Month_Number']).size()\n",
    "        self.monthly['Volume'] = self.monthly['Volume'].astype('int')\n",
    "        self.monthly['AvgDVol'] = (self.monthly['Volume'] / self.monthly['Count']).astype('int')\n",
    "        self.monthly = self.monthly.reset_index().set_index('yyyymm')[['Open', 'High', 'Low', 'Close', 'Volume', 'AvgDVol', 'Count']]\n",
    "\n",
    "        ### yearly\n",
    "        self.yearly = tmpdf.groupby(['Year']).agg({'Open':'first', 'High':'max', 'Low':'min', 'Close':'last', 'Volume':'sum'})\n",
    "        self.yearly['Count'] =tmpdf.groupby(['Year']).size()\n",
    "        self.yearly['Volume'] = self.yearly['Volume'].astype('int')\n",
    "        self.yearly['AvgDVol'] = (self.yearly['Volume'] / self.yearly['Count']).astype('int')\n",
    "        self.yearly = self.yearly[['Open', 'High', 'Low', 'Close', 'Volume', 'AvgDVol', 'Count']]\n",
    "\n",
    "\n",
    "    ####################\n",
    "    def __del__(self):\n",
    "        if self.conn is not None:\n",
    "            self.conn.close()\n",
    "            self.conn = None\n"
   ]
  },
  {
   "cell_type": "code",
   "execution_count": 2,
   "metadata": {
    "scrolled": false
   },
   "outputs": [
    {
     "name": "stdout",
     "output_type": "stream",
     "text": [
      "year=2008, mean=21.180, stddev=4.251, open=27.725, high=27.725, low=11.985, rng=15.740, close=14.595, count=245\n",
      "year=2009, mean=18.336, stddev=3.501, open=15.025, high=23.000, low=11.840, rng=11.160, close=21.962, count=249\n",
      "year=2010, mean=21.806, stddev=1.330, open=21.987, high=25.038, low=19.430, rng=5.608, close=23.225, count=248\n",
      "year=2011, mean=21.687, stddev=2.144, open=23.500, high=24.587, low=16.960, rng=7.627, close=18.600, count=244\n",
      "year=2012, mean=20.812, stddev=1.062, open=18.995, high=22.875, low=18.495, rng=4.380, close=22.837, count=246\n",
      "year=2013, mean=22.973, stddev=0.825, open=23.375, high=24.212, low=20.317, rng=3.895, close=23.487, count=244\n",
      "year=2014, mean=23.660, stddev=1.117, open=23.500, high=26.100, low=21.500, rng=4.600, close=23.837, count=236\n",
      "year=2015, mean=24.738, stddev=2.126, open=24.013, high=28.863, low=21.375, rng=7.488, close=22.113, count=233\n",
      "year=2016, mean=21.810, stddev=1.603, open=21.587, high=24.850, low=18.550, rng=6.300, close=22.100, count=245\n",
      "year=2017, mean=26.635, stddev=2.269, open=22.238, high=30.250, low=22.238, rng=8.012, close=30.062, count=245\n",
      "year=2018, mean=29.284, stddev=2.109, open=30.525, high=33.300, low=25.025, rng=8.275, close=26.038, count=245\n",
      "year=2019, mean=26.983, stddev=0.839, open=25.425, high=28.150, low=25.250, rng=2.900, close=28.137, count=24\n"
     ]
    }
   ],
   "source": [
    "\n",
    "data = HKta('2800.HK')\n",
    "df = data.daily\n",
    "### daily done, calc TA\n",
    "df['WCLPRICE'] = talib.WCLPRICE(df['High'], df['Low'], df['Close'])\n",
    "\n",
    "\n",
    "for y in range(2008,2020):\n",
    "    yyyyStart=\"%d-01-01\"%(y)\n",
    "    yyyyEnd  =\"%d-12-31\"%(y)\n",
    "    df = data.daily.loc[yyyyStart:yyyyEnd]\n",
    "    print \"year=%4d, mean=%.3f, stddev=%.3f, open=%.3f, high=%.3f, low=%.3f, rng=%.3f, close=%.3f, count=%d\" % (\n",
    "        y, df.WCLPRICE.mean(), df.WCLPRICE.std()\n",
    "        , df.iloc[0]['WCLPRICE']  #Open\n",
    "        , df['WCLPRICE'].max() #High\n",
    "        , df['WCLPRICE'].min() #Low\n",
    "        , df['WCLPRICE'].max() - df['WCLPRICE'].min() #Low\n",
    "        , df.iloc[-1]['WCLPRICE'] #Close\n",
    "        , len(df.index)  # count\n",
    "    )\n",
    "    #print"
   ]
  },
  {
   "cell_type": "code",
   "execution_count": 3,
   "metadata": {},
   "outputs": [
    {
     "name": "stdout",
     "output_type": "stream",
     "text": [
      "year=2019, mean=28.764, stddev=1.978, open=30.750, high=31.950, low=25.025, rng=6.925, close=28.137, count=243\n"
     ]
    }
   ],
   "source": [
    "t =dt.datetime.now()-dt.timedelta(days=365)\n",
    "yStart= dt.datetime(t.year, t.month, t.day, tzinfo=t.tzinfo)\n",
    "yEnd= dt.datetime(dt.datetime.now().year, dt.datetime.now().month, dt.datetime.now().day, tzinfo=dt.datetime.now().tzinfo)\n",
    "\n",
    "df = data.daily.loc[yStart:yEnd]\n",
    "print \"year=%4d, mean=%.3f, stddev=%.3f, open=%.3f, high=%.3f, low=%.3f, rng=%.3f, close=%.3f, count=%d\" % (\n",
    "    y, df.WCLPRICE.mean(), df.WCLPRICE.std()\n",
    "    , df.iloc[0]['WCLPRICE']  #Open\n",
    "    , df['WCLPRICE'].max() #High\n",
    "    , df['WCLPRICE'].min() #Low\n",
    "    , df['WCLPRICE'].max() - df['WCLPRICE'].min() #Low\n",
    "    , df.iloc[-1]['WCLPRICE'] #Close\n",
    "    , len(df.index)  # count\n",
    ")\n"
   ]
  },
  {
   "cell_type": "markdown",
   "metadata": {},
   "source": [
    "### Assumption:\n",
    "### assume 2019 range 23 - 30 ; mean at 26.5 ; stddev at 1.7"
   ]
  },
  {
   "cell_type": "code",
   "execution_count": 4,
   "metadata": {
    "scrolled": false
   },
   "outputs": [
    {
     "name": "stdout",
     "output_type": "stream",
     "text": [
      "90.0  24.3 \n",
      "80.0  25.1 \n",
      "70.0  25.6 \n",
      "60.0  26.1 \n",
      "50.0  26.5 \n",
      "40.0  26.9 \n",
      "30.0  27.4 \n",
      "20.0  27.9 \n",
      "10.0  28.7 \n",
      "\n",
      "30.50  0.93 \n",
      "29.50  3.88 \n",
      "28.50  11.97 \n",
      "27.50  27.82 \n",
      "26.50  50.00 \n",
      "25.50  72.18 \n",
      "24.50  88.03 \n",
      "23.50  96.12 \n",
      "22.50  99.07 \n"
     ]
    }
   ],
   "source": [
    "from scipy import stats\n",
    "n = stats.norm( 26.5, 1.7 )\n",
    "\n",
    "for q in np.linspace(10.0,90.0, 9):\n",
    "    print \"%2.1f  %.1f \" %(100 - q, (n.ppf(q/100)) )\n",
    "print\n",
    "for p in np.linspace(30.5,22.5, 9):\n",
    "    print \"%2.2f  %.2f \" %(p, 100-(n.cdf(p) * 100) )\n"
   ]
  }
 ],
 "metadata": {
  "kernelspec": {
   "display_name": "Python 2",
   "language": "python",
   "name": "python2"
  },
  "language_info": {
   "codemirror_mode": {
    "name": "ipython",
    "version": 2
   },
   "file_extension": ".py",
   "mimetype": "text/x-python",
   "name": "python",
   "nbconvert_exporter": "python",
   "pygments_lexer": "ipython2",
   "version": "2.7.15"
  }
 },
 "nbformat": 4,
 "nbformat_minor": 2
}
