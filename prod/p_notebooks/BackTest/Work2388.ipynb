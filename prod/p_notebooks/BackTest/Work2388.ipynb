{
 "cells": [
  {
   "cell_type": "code",
   "execution_count": 5,
   "metadata": {},
   "outputs": [],
   "source": [
    "import datetime as dt\n",
    "import pymysql, talib, sys, os, tempfile\n",
    "import pandas as pd , numpy as np\n",
    "\n",
    "#############################################\n",
    "class HKta:\n",
    "    conn = None\n",
    "    symbol=None\n",
    "    \n",
    "    raw=None\n",
    "    daily=None\n",
    "    weekly=None\n",
    "    monthly=None\n",
    "    yearly=None\n",
    "    ####################\n",
    "    def __init__(self,symbol):\n",
    "        self.symbol = symbol\n",
    "        self.populate()\n",
    "    ####################\n",
    "    def populate(self):\n",
    "        if self.conn is None:\n",
    "            self.conn = pymysql.connect(host='tptcn.ddns.net', port=53306, db='p_master',\n",
    "                                   user=os.environ['MYSQL_READUSER'], password=os.environ['MYSQL_READPASSWORD'],\n",
    "                                   cursorclass=pymysql.cursors.DictCursor)\n",
    "\n",
    "        tmpl = \"SELECT  * FROM `consolidated_daily` WHERE `symbol`='%s' \"\n",
    "        sql = tmpl % (self.symbol)\n",
    "        self.raw= pd.read_sql(sql, self.conn, index_col=['Date'] )[['Open', 'High', 'Low', 'Close', 'Volume']]\n",
    "        ### drop NA \n",
    "        self.daily = self.raw.fillna(0)\n",
    "        self.daily['Volume'] = self.daily['Volume'].astype('int')\n",
    "        self.daily = self.daily[self.daily['Volume'] > 0]\n",
    "        self.daily = self.daily.reset_index()\n",
    "        self.daily['Date'] = pd.to_datetime(self.daily['Date'])\n",
    "        self.daily=self.daily.set_index('Date')\n",
    "\n",
    "        #Close should be official; so adjust High/Low if necessary\n",
    "        self.daily['High'] = np.where(self.daily['Close'] > self.daily['High'], self.daily['Close'], self.daily['High'])\n",
    "        self.daily['Low']  = np.where(self.daily['Close'] < self.daily['Low'],  self.daily['Close'], self.daily['Low'])\n",
    "        #Open is calculated; so, adjust according to the High/Low if necessary\n",
    "        self.daily['Open'] = np.where(self.daily['Open']  > self.daily['High'], self.daily['High'],  self.daily['Open'])\n",
    "        self.daily['Open'] = np.where(self.daily['Open']  < self.daily['Low'],  self.daily['Low'],   self.daily['Open'])\n",
    "         \n",
    "        ### roll up \n",
    "        tmpdf = self.daily\n",
    "        tmpdf = tmpdf.reset_index()\n",
    "\n",
    "        tmpdf['yyyymm'] = tmpdf['Date'].dt.strftime(\"%Y%m\")\n",
    "        tmpdf['Month_Number'] = tmpdf['Date'].dt.month\n",
    "        tmpdf['Year'] = tmpdf['Date'].dt.year\n",
    "\n",
    "        # 'daysoffset' will container the weekday, as integers\n",
    "        tmpdf['daysoffset'] = tmpdf['Date'].apply(lambda x: x.weekday())\n",
    "        # We apply, row by row (axis=1) a timedelta operation\n",
    "        tmpdf['WeekStart'] = tmpdf.apply(lambda x: x['Date'] - dt.timedelta(days=x['daysoffset']), axis=1)\n",
    "\n",
    "        ### weekly\n",
    "        self.weekly = tmpdf.groupby(['WeekStart']).agg({'Open':'first', 'High':'max', 'Low':'min', 'Close':'last', 'Volume':'sum'})\n",
    "        self.weekly['Count'] =tmpdf.groupby(['WeekStart']).size()\n",
    "        self.weekly['Volume'] = self.weekly['Volume'].astype('int')\n",
    "        self.weekly['AvgDVol'] = (self.weekly['Volume'] / self.weekly['Count']).astype('int')\n",
    "        self.weekly = self.weekly.reset_index().set_index('WeekStart')[['Open', 'High', 'Low', 'Close', 'Volume', 'AvgDVol', 'Count']]\n",
    "\n",
    "        ### monthly\n",
    "        self.monthly = tmpdf.groupby(['Year','Month_Number']).agg({'Open':'first', 'High':'max', 'Low':'min', 'Close':'last', 'Volume':'sum', 'yyyymm':'first'})\n",
    "        self.monthly['Count'] =tmpdf.groupby(['Year','Month_Number']).size()\n",
    "        self.monthly['Volume'] = self.monthly['Volume'].astype('int')\n",
    "        self.monthly['AvgDVol'] = (self.monthly['Volume'] / self.monthly['Count']).astype('int')\n",
    "        self.monthly = self.monthly.reset_index().set_index('yyyymm')[['Open', 'High', 'Low', 'Close', 'Volume', 'AvgDVol', 'Count']]\n",
    "\n",
    "        ### yearly\n",
    "        self.yearly = tmpdf.groupby(['Year']).agg({'Open':'first', 'High':'max', 'Low':'min', 'Close':'last', 'Volume':'sum'})\n",
    "        self.yearly['Count'] =tmpdf.groupby(['Year']).size()\n",
    "        self.yearly['Volume'] = self.yearly['Volume'].astype('int')\n",
    "        self.yearly['AvgDVol'] = (self.yearly['Volume'] / self.yearly['Count']).astype('int')\n",
    "        self.yearly = self.yearly[['Open', 'High', 'Low', 'Close', 'Volume', 'AvgDVol', 'Count']]\n",
    "\n",
    "\n",
    "    ####################\n",
    "    def __del__(self):\n",
    "        if self.conn is not None:\n",
    "            self.conn.close()\n",
    "            self.conn = None\n"
   ]
  },
  {
   "cell_type": "code",
   "execution_count": 6,
   "metadata": {},
   "outputs": [
    {
     "name": "stdout",
     "output_type": "stream",
     "text": [
      "             Open   High    Low  Close     Volume  WCLPRICE\n",
      "Date                                                       \n",
      "2002-07-25   8.50   8.55   8.00   8.05  349715000    8.1625\n",
      "2002-07-26   8.00   8.30   8.00   8.30  108773800    8.2250\n",
      "2002-07-29   8.30   8.45   8.30   8.45   43057500    8.4125\n",
      "2002-07-30   8.55   8.60   8.40   8.40   47204500    8.4500\n",
      "2002-07-31   8.40   8.50   8.35   8.45   16484000    8.4375\n",
      "2002-08-01   8.50   8.50   8.40   8.45   14545500    8.4500\n",
      "2002-08-02   8.35   8.40   8.30   8.35   13508500    8.3500\n",
      "2002-08-05   8.25   8.35   8.25   8.30   10141000    8.3000\n",
      "2002-08-06   8.20   8.25   8.15   8.20   13995000    8.2000\n",
      "2002-08-07   8.30   8.35   8.25   8.30    8749000    8.3000\n",
      "2002-08-08   8.25   8.30   8.20   8.25    8245000    8.2500\n",
      "2002-08-09   8.30   8.35   8.25   8.30    7818331    8.3000\n",
      "2002-08-12   8.25   8.30   8.20   8.25    6566500    8.2500\n",
      "2002-08-13   8.20   8.30   8.15   8.30    9060000    8.2625\n",
      "2002-08-14   8.20   8.25   8.15   8.25    6271200    8.2250\n",
      "2002-08-15   8.30   8.30   8.25   8.25    4452500    8.2625\n",
      "2002-08-16   8.25   8.50   8.25   8.50   17195500    8.4375\n",
      "2002-08-19   8.40   8.60   8.35   8.60   33583500    8.5375\n",
      "2002-08-20   8.60   8.65   8.50   8.60   20484000    8.5875\n",
      "2002-08-21   8.50   8.60   8.50   8.60   11695000    8.5750\n",
      "2002-08-22   8.60   8.65   8.55   8.65   25189000    8.6250\n",
      "2002-08-26   8.60   8.70   8.60   8.65   20083900    8.6500\n",
      "2002-08-27   8.60   8.65   8.55   8.65   18054500    8.6250\n",
      "2002-08-28   8.55   8.60   8.50   8.55   13337000    8.5500\n",
      "2002-08-29   8.50   8.60   8.45   8.55   24518100    8.5375\n",
      "2002-08-30   8.55   8.65   8.25   8.40   57570400    8.4250\n",
      "2002-09-02   8.35   8.50   8.35   8.35   32397000    8.3875\n",
      "2002-09-03   8.30   8.40   8.30   8.30   11397000    8.3250\n",
      "2002-09-04   8.20   8.40   8.20   8.35   16507500    8.3250\n",
      "2002-09-05   8.35   8.40   8.30   8.35    9442000    8.3500\n",
      "...           ...    ...    ...    ...        ...       ...\n",
      "2018-12-20  29.10  29.40  29.00  29.20    9281365   29.2000\n",
      "2018-12-21  28.95  29.25  28.95  29.10    9082034   29.1000\n",
      "2018-12-24  29.10  29.30  28.95  29.00    2162918   29.0625\n",
      "2018-12-27  29.20  29.35  28.75  28.80    5491340   28.9250\n",
      "2018-12-28  28.75  29.05  28.75  28.85    4910386   28.8750\n",
      "2018-12-31  29.05  29.25  29.00  29.10    2950108   29.1125\n",
      "2019-01-02  29.35  29.35  28.25  28.45   12650981   28.6250\n",
      "2019-01-03  28.70  28.70  27.85  27.95   10636458   28.1125\n",
      "2019-01-04  27.85  28.10  27.55  28.10   12858027   27.9625\n",
      "2019-01-07  28.45  28.60  27.80  28.15   13544664   28.1750\n",
      "2019-01-08  28.40  28.75  28.05  28.35    9425932   28.3750\n",
      "2019-01-09  28.95  29.35  28.65  29.20   11524076   29.1000\n",
      "2019-01-10  28.80  29.30  28.80  29.15    6790912   29.1000\n",
      "2019-01-11  29.40  29.40  29.00  29.25    7410000   29.2250\n",
      "2019-01-14  29.45  29.45  28.85  28.95    4299360   29.0500\n",
      "2019-01-15  29.20  29.90  29.00  29.60   14247241   29.5250\n",
      "2019-01-16  29.60  29.70  29.40  29.60   10739239   29.5750\n",
      "2019-01-17  29.60  29.60  29.10  29.30    8773803   29.3250\n",
      "2019-01-18  29.55  29.90  29.40  29.50    9693350   29.5750\n",
      "2019-01-21  29.75  30.05  29.60  30.05   14516242   29.9375\n",
      "2019-01-22  30.05  30.15  29.80  30.05    8873875   30.0125\n",
      "2019-01-23  30.00  30.15  29.90  30.10    5198553   30.0625\n",
      "2019-01-24  29.75  30.10  29.75  30.05    6154580   29.9875\n",
      "2019-01-25  30.20  30.70  30.05  30.50    9371165   30.4375\n",
      "2019-01-28  30.50  30.75  30.15  30.30    7530071   30.3750\n",
      "2019-01-29  30.10  30.25  29.70  30.00   15162818   29.9875\n",
      "2019-01-30  30.00  30.10  29.80  30.00    8097681   29.9750\n",
      "2019-01-31  30.30  30.40  30.05  30.10   12478284   30.1625\n",
      "2019-02-01  30.25  30.30  29.90  30.20    8681437   30.1500\n",
      "2019-02-04  30.20  30.35  30.10  30.15    3845841   30.1875\n",
      "\n",
      "[4045 rows x 6 columns]\n"
     ]
    }
   ],
   "source": [
    "data = HKta('2388.HK')\n",
    "df = data.daily\n",
    "### daily done, calc TA\n",
    "df['WCLPRICE'] = talib.WCLPRICE(df['High'], df['Low'], df['Close'])\n",
    "print df"
   ]
  },
  {
   "cell_type": "code",
   "execution_count": 8,
   "metadata": {},
   "outputs": [],
   "source": [
    "for y in range(2008,2020):\n",
    "    yyyyStart=\"%d-01-01\"%(y)\n",
    "    yyyyEnd  =\"%d-12-31\"%(y)\n",
    "    df = data.daily.loc[yyyyStart:yyyyEnd]\n",
    "    #print df\n",
    "    "
   ]
  },
  {
   "cell_type": "code",
   "execution_count": 10,
   "metadata": {
    "scrolled": false
   },
   "outputs": [
    {
     "name": "stdout",
     "output_type": "stream",
     "text": [
      "year=2008, mean=16.660, stddev=4.547, open=21.475, high=23.575, low=7.684, rng=15.891, close=8.738, count=240\n",
      "year=2009, mean=13.436, stddev=3.996, open=8.995, high=19.715, low=6.393, rng=13.322, close=17.695, count=249\n",
      "year=2010, mean=20.622, stddev=3.676, open=17.515, high=28.950, low=16.080, rng=12.870, close=26.375, count=249\n",
      "year=2011, mean=21.948, stddev=3.148, open=26.688, high=28.025, low=14.685, rng=13.340, close=18.440, count=246\n",
      "year=2012, mean=22.931, stddev=1.469, open=18.715, high=24.875, low=18.355, rng=6.520, close=24.062, count=245\n",
      "year=2013, mean=25.456, stddev=1.011, open=24.487, high=27.825, low=23.175, rng=4.650, close=24.863, count=244\n",
      "year=2014, mean=24.281, stddev=1.413, open=24.775, high=27.625, low=21.775, rng=5.850, close=25.925, count=236\n",
      "year=2015, mean=27.652, stddev=3.055, open=25.950, high=33.400, low=22.488, rng=10.913, close=23.700, count=233\n",
      "year=2016, mean=24.508, stddev=2.830, open=23.225, high=29.400, low=18.995, rng=10.405, close=27.675, count=245\n",
      "year=2017, mean=35.290, stddev=3.416, open=28.150, high=40.125, low=28.150, rng=11.975, close=39.612, count=245\n",
      "year=2018, mean=36.767, stddev=3.732, open=39.825, high=41.763, low=28.875, rng=12.888, close=29.113, count=245\n",
      "year=2019, mean=29.458, stddev=0.755, open=28.625, high=30.438, low=27.963, rng=2.475, close=30.188, count=24\n"
     ]
    }
   ],
   "source": [
    "for y in range(2008,2020):\n",
    "    yyyyStart=\"%d-01-01\"%(y)\n",
    "    yyyyEnd  =\"%d-12-31\"%(y)\n",
    "    df = data.daily.loc[yyyyStart:yyyyEnd]\n",
    "    print \"year=%4d, mean=%.3f, stddev=%.3f, open=%.3f, high=%.3f, low=%.3f, rng=%.3f, close=%.3f, count=%d\" % (\n",
    "        y, df.WCLPRICE.mean(), df.WCLPRICE.std()\n",
    "        , df.iloc[0]['WCLPRICE']  #Open\n",
    "        , df['WCLPRICE'].max() #High\n",
    "        , df['WCLPRICE'].min() #Low\n",
    "        , df['WCLPRICE'].max() - df['WCLPRICE'].min() #Low\n",
    "        , df.iloc[-1]['WCLPRICE'] #Close\n",
    "        , len(df.index)  # count\n",
    "    )\n",
    "    #print"
   ]
  },
  {
   "cell_type": "code",
   "execution_count": 11,
   "metadata": {},
   "outputs": [
    {
     "name": "stdout",
     "output_type": "stream",
     "text": [
      "year=2019, mean=35.657, stddev=4.079, open=37.538, high=41.100, low=27.963, rng=13.137, close=30.188, count=243\n"
     ]
    }
   ],
   "source": [
    "t =dt.datetime.now()-dt.timedelta(days=365)\n",
    "yStart= dt.datetime(t.year, t.month, t.day, tzinfo=t.tzinfo)\n",
    "yEnd= dt.datetime(dt.datetime.now().year, dt.datetime.now().month, dt.datetime.now().day, tzinfo=dt.datetime.now().tzinfo)\n",
    "\n",
    "df = data.daily.loc[yStart:yEnd]\n",
    "print \"year=%4d, mean=%.3f, stddev=%.3f, open=%.3f, high=%.3f, low=%.3f, rng=%.3f, close=%.3f, count=%d\" % (\n",
    "    y, df.WCLPRICE.mean(), df.WCLPRICE.std()\n",
    "    , df.iloc[0]['WCLPRICE']  #Open\n",
    "    , df['WCLPRICE'].max() #High\n",
    "    , df['WCLPRICE'].min() #Low\n",
    "    , df['WCLPRICE'].max() - df['WCLPRICE'].min() #Low\n",
    "    , df.iloc[-1]['WCLPRICE'] #Close\n",
    "    , len(df.index)  # count\n",
    ")\n"
   ]
  },
  {
   "cell_type": "markdown",
   "metadata": {},
   "source": [
    "### Assumption 2388:\n",
    "### assume 2019 range 27 - 37 ; mean at 32 ; stddev at 3"
   ]
  },
  {
   "cell_type": "code",
   "execution_count": 21,
   "metadata": {
    "scrolled": false
   },
   "outputs": [
    {
     "name": "stdout",
     "output_type": "stream",
     "text": [
      "90.0  26.7 \n",
      "80.0  28.0 \n",
      "70.0  28.9 \n",
      "60.0  29.7 \n",
      "50.0  30.5 \n",
      "40.0  31.3 \n",
      "30.0  32.1 \n",
      "20.0  33.0 \n",
      "10.0  34.3 \n",
      "\n",
      "37.50  0.98 \n",
      "36.50  2.28 \n",
      "35.50  4.78 \n",
      "34.50  9.12 \n",
      "33.50  15.87 \n",
      "32.50  25.25 \n",
      "31.50  36.94 \n",
      "30.50  50.00 \n",
      "29.50  63.06 \n",
      "28.50  74.75 \n",
      "27.50  84.13 \n",
      "26.50  90.88 \n"
     ]
    }
   ],
   "source": [
    "from scipy import stats\n",
    "n = stats.norm( 30.5, 3.0 )\n",
    "\n",
    "for q in np.linspace(10.0,90.0, 9):\n",
    "    print \"%2.1f  %.1f \" %(100 - q, (n.ppf(q/100)) )\n",
    "print\n",
    "for p in np.linspace(37.5,26.5, 12):\n",
    "    print \"%2.2f  %.2f \" %(p, 100-(n.cdf(p) * 100) )\n"
   ]
  }
 ],
 "metadata": {
  "kernelspec": {
   "display_name": "Python 2",
   "language": "python",
   "name": "python2"
  },
  "language_info": {
   "codemirror_mode": {
    "name": "ipython",
    "version": 2
   },
   "file_extension": ".py",
   "mimetype": "text/x-python",
   "name": "python",
   "nbconvert_exporter": "python",
   "pygments_lexer": "ipython2",
   "version": "2.7.15"
  }
 },
 "nbformat": 4,
 "nbformat_minor": 2
}
