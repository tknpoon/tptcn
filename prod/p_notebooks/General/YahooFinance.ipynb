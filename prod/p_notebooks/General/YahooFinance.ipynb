{
 "cells": [
  {
   "cell_type": "code",
   "execution_count": null,
   "metadata": {},
   "outputs": [],
   "source": [
    "import requests                  # [handles the http interactions](http://docs.python-requests.org/en/master/) \n",
    "from bs4 import BeautifulSoup    # beautiful soup handles the html to text conversion and more\n",
    "import re                        # regular expressions are necessary for finding the crumb (more on crumbs later)\n",
    "from datetime import timedelta,datetime    # string to datetime object conversion\n",
    "from time import mktime          # mktime transforms datetime objects to unix timestamps\n",
    "\n",
    "########################################################\n",
    "def _get_crumbs_and_cookies(stock):\n",
    "    \"\"\"\n",
    "    get crumb and cookies for historical data csv download from yahoo finance\n",
    "    \n",
    "    parameters: stock - short-handle identifier of the company \n",
    "    \n",
    "    returns a tuple of header, crumb and cookie\n",
    "    \"\"\"\n",
    "    \n",
    "    url = 'https://finance.yahoo.com/quote/{}/history'.format(stock)\n",
    "    with requests.session():\n",
    "        header = {'Connection': 'keep-alive',\n",
    "                   'Expires': '-1',\n",
    "                   'Upgrade-Insecure-Requests': '1',\n",
    "                   'User-Agent': 'Mozilla/5.0 (Windows NT 10.0; WOW64) \\\n",
    "                   AppleWebKit/537.36 (KHTML, like Gecko) Chrome/54.0.2840.99 Safari/537.36'\n",
    "                   }\n",
    "        \n",
    "        website = requests.get(url, headers=header)\n",
    "        soup = BeautifulSoup(website.text, 'lxml')\n",
    "        crumb = re.findall('\"CrumbStore\":{\"crumb\":\"(.+?)\"}', str(soup))\n",
    "\n",
    "        return (header, crumb[0], website.cookies)\n",
    "\n",
    "\n",
    "########################################################\n",
    "def convert_to_unix(date):\n",
    "    \"\"\"\n",
    "    converts date to unix timestamp\n",
    "    \n",
    "    parameters: date - in format (dd-mm-yyyy)\n",
    "    \n",
    "    returns integer unix timestamp\n",
    "    \"\"\"\n",
    "    datum = datetime.strptime(date, '%d-%m-%Y')\n",
    "    \n",
    "    return int(mktime(datum.timetuple()))\n",
    "\n",
    "\n",
    "########################################################\n",
    "def load_csv_data(stock, interval='1d', day_begin=(datetime.now()-timedelta(days=14)).strftime('%d-%m-%Y'), day_end=datetime.now().strftime('%d-%m-%Y')):\n",
    "    \"\"\"\n",
    "    queries yahoo finance api to receive historical data in csv file format\n",
    "    \n",
    "    parameters: \n",
    "        stock - short-handle identifier of the company\n",
    "        \n",
    "        interval - 1d, 1wk, 1mo - daily, weekly monthly data\n",
    "        \n",
    "        day_begin - starting date for the historical data (format: dd-mm-yyyy)\n",
    "        \n",
    "        day_end - final date of the data (format: dd-mm-yyyy)\n",
    "    \n",
    "    returns a list of comma seperated value lines\n",
    "    \"\"\"\n",
    "    day_begin_unix = convert_to_unix(day_begin)\n",
    "    day_end_unix = convert_to_unix(day_end)\n",
    "    \n",
    "    header, crumb, cookies = _get_crumbs_and_cookies(stock)\n",
    "    \n",
    "    with requests.session():\n",
    "        url = 'https://query1.finance.yahoo.com/v7/finance/download/' \\\n",
    "              '{stock}?period1={day_begin}&period2={day_end}&interval={interval}&events=history&crumb={crumb}' \\\n",
    "              .format(stock=stock, day_begin=day_begin_unix, day_end=day_end_unix, interval=interval, crumb=crumb)\n",
    "                \n",
    "        website = requests.get(url, headers=header, cookies=cookies)\n",
    "       \n",
    "        return website.text.split('\\n')[:-1]"
   ]
  },
  {
   "cell_type": "code",
   "execution_count": 4,
   "metadata": {},
   "outputs": [
    {
     "name": "stdout",
     "output_type": "stream",
     "text": [
      "Date,Open,High,Low,Close,Adj Close,Volume\n",
      "2019-01-14,329.600006,329.600006,320.200012,321.799988,321.799988,18977242\n",
      "2019-01-15,325.000000,330.799988,323.200012,330.000000,330.000000,16953757\n",
      "2019-01-16,330.000000,331.000000,325.200012,331.000000,331.000000,16392202\n",
      "2019-01-17,335.000000,338.000000,330.600006,331.200012,331.200012,23148086\n",
      "2019-01-18,335.000000,337.799988,333.799988,337.000000,337.000000,15656802\n",
      "2019-01-21,338.000000,344.399994,336.200012,340.000000,340.000000,19062984\n",
      "2019-01-22,342.000000,342.000000,330.799988,335.799988,335.799988,21039177\n",
      "2019-01-23,330.600006,335.600006,330.600006,333.200012,333.200012,16410980\n",
      "2019-01-24,332.200012,333.000000,326.799988,330.200012,330.200012,17113453\n",
      "2019-01-25,335.000000,343.799988,333.399994,343.799988,343.799988,31534946\n"
     ]
    }
   ],
   "source": [
    "########################################################\n",
    "csv = load_csv_data('0700.HK')\n",
    "for c in csv:\n",
    "    print c"
   ]
  }
 ],
 "metadata": {
  "kernelspec": {
   "display_name": "Python 2",
   "language": "python",
   "name": "python2"
  },
  "language_info": {
   "codemirror_mode": {
    "name": "ipython",
    "version": 2
   },
   "file_extension": ".py",
   "mimetype": "text/x-python",
   "name": "python",
   "nbconvert_exporter": "python",
   "pygments_lexer": "ipython2",
   "version": "2.7.15"
  }
 },
 "nbformat": 4,
 "nbformat_minor": 2
}
